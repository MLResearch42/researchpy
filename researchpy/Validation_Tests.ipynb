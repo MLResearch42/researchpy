{
 "cells": [
  {
   "cell_type": "code",
   "execution_count": 1,
   "metadata": {},
   "outputs": [],
   "source": [
    "import pandas as pd\n",
    "pd.set_option('display.max_rows', 500)\n",
    "pd.set_option('display.max_columns', 500)\n",
    "pd.set_option('display.width', 1000)\n",
    "\n",
    "import numpy as np\n",
    "\n",
    "import researchpy as rp"
   ]
  },
  {
   "cell_type": "code",
   "execution_count": 2,
   "metadata": {},
   "outputs": [],
   "source": [
    "import statsmodels.datasets\n",
    "systolic = statsmodels.datasets.webuse('systolic')\n",
    "\n",
    "systolic.iloc[0, 0] = np.nan"
   ]
  },
  {
   "cell_type": "code",
   "execution_count": 3,
   "metadata": {},
   "outputs": [
    {
     "name": "stdout",
     "output_type": "stream",
     "text": [
      "\n",
      "  ___  ____  ____  ____  ____ ®\n",
      " /__    /   ____/   /   ____/      17.0\n",
      "___/   /   /___/   /   /___/       BE—Basic Edition\n",
      "\n",
      " Statistics and Data Science       Copyright 1985-2021 StataCorp LLC\n",
      "                                   StataCorp\n",
      "                                   4905 Lakeway Drive\n",
      "                                   College Station, Texas 77845 USA\n",
      "                                   800-STATA-PC        https://www.stata.com\n",
      "                                   979-696-4600        stata@stata.com\n",
      "\n",
      "Stata license: Single-user  perpetual\n",
      "Serial number: 301706367794\n",
      "  Licensed to: Corey Bryant\n",
      "               University of Michigan\n",
      "\n",
      "Notes:\n",
      "      1. Unicode is supported; see help unicode_advice.\n"
     ]
    }
   ],
   "source": [
    "#from pystata import Stata\n",
    "import stata_setup\n",
    "\n",
    "stata_setup.config(\"C:/Program Files/Stata17/\", \"be\")"
   ]
  },
  {
   "cell_type": "markdown",
   "metadata": {},
   "source": [
    "## Descriptive Information"
   ]
  },
  {
   "cell_type": "code",
   "execution_count": 4,
   "metadata": {},
   "outputs": [
    {
     "name": "stdout",
     "output_type": "stream",
     "text": [
      "\n",
      ". \n",
      ". codebook\n",
      "\n",
      "-------------------------------------------------------------------------------\n",
      "drug                                                                (unlabeled)\n",
      "-------------------------------------------------------------------------------\n",
      "\n",
      "                  Type: Numeric (double)\n",
      "\n",
      "                 Range: [1,4]                         Units: 1\n",
      "         Unique values: 4                         Missing .: 1/58\n",
      "\n",
      "            Tabulation: Freq.  Value\n",
      "                           14  1\n",
      "                           15  2\n",
      "                           12  3\n",
      "                           16  4\n",
      "                            1  .\n",
      "\n",
      "-------------------------------------------------------------------------------\n",
      "disease                                                             (unlabeled)\n",
      "-------------------------------------------------------------------------------\n",
      "\n",
      "                  Type: Numeric (int)\n",
      "\n",
      "                 Range: [1,3]                         Units: 1\n",
      "         Unique values: 3                         Missing .: 0/58\n",
      "\n",
      "            Tabulation: Freq.  Value\n",
      "                           19  1\n",
      "                           19  2\n",
      "                           20  3\n",
      "\n",
      "-------------------------------------------------------------------------------\n",
      "systolic                                                            (unlabeled)\n",
      "-------------------------------------------------------------------------------\n",
      "\n",
      "                  Type: Numeric (int)\n",
      "\n",
      "                 Range: [-6,44]                       Units: 1\n",
      "         Unique values: 32                        Missing .: 0/58\n",
      "\n",
      "                  Mean: 18.8793\n",
      "             Std. dev.: 12.8009\n",
      "\n",
      "           Percentiles:     10%       25%       50%       75%       90%\n",
      "                              1         9        21        28        34\n",
      "\n",
      ". \n"
     ]
    }
   ],
   "source": [
    "%%stata -d systolic\n",
    "\n",
    "codebook\n"
   ]
  },
  {
   "cell_type": "code",
   "execution_count": 5,
   "metadata": {},
   "outputs": [
    {
     "name": "stdout",
     "output_type": "stream",
     "text": [
      "Variable: drug    Data Type: float64 \n",
      "\n",
      " Number of Obs.: 58 \n",
      " Number of missing obs.: 1 \n",
      " Percent missing: 1.72 \n",
      " Number of unique values: 4 \n",
      "\n",
      " Range: [1.0, 4.0] \n",
      " Mean: 2.53 \n",
      " Standard Deviation: 1.15 \n",
      " Mode: 4.0 \n",
      " 10th Percentile: 1.0 \n",
      " 25th Percentile: 2.0 \n",
      " 50th Percentile: 2.0 \n",
      " 75th Percentile: 4.0 \n",
      " 90th Percentile: 4.0 \n",
      "\n",
      "\n",
      "\n",
      "\n",
      "\n",
      "Variable: disease    Data Type: int16 \n",
      "\n",
      " Number of Obs.: 58 \n",
      " Number of missing obs.: 0 \n",
      " Percent missing: 0.0 \n",
      " Number of unique values: 3 \n",
      "\n",
      " Range: [1, 3] \n",
      " Mean: 2.02 \n",
      " Standard Deviation: 0.83 \n",
      " Mode: 3 \n",
      " 10th Percentile: 1.0 \n",
      " 25th Percentile: 1.0 \n",
      " 50th Percentile: 2.0 \n",
      " 75th Percentile: 3.0 \n",
      " 90th Percentile: 3.0 \n",
      "\n",
      "\n",
      "\n",
      "\n",
      "\n",
      "Variable: systolic    Data Type: int16 \n",
      "\n",
      " Number of Obs.: 58 \n",
      " Number of missing obs.: 0 \n",
      " Percent missing: 0.0 \n",
      " Number of unique values: 32 \n",
      "\n",
      " Range: [-6, 44] \n",
      " Mean: 18.88 \n",
      " Standard Deviation: 12.8 \n",
      " Mode: 1 \n",
      " 10th Percentile: 1.0 \n",
      " 25th Percentile: 9.0 \n",
      " 50th Percentile: 21.0 \n",
      " 75th Percentile: 28.0 \n",
      " 90th Percentile: 34.0 \n",
      "\n",
      "\n",
      "\n",
      "\n",
      "\n"
     ]
    }
   ],
   "source": [
    "rp.codebook(systolic)"
   ]
  },
  {
   "cell_type": "code",
   "execution_count": null,
   "metadata": {},
   "outputs": [],
   "source": [
    "%%stata \n",
    "\n",
    "tab drug"
   ]
  },
  {
   "cell_type": "code",
   "execution_count": null,
   "metadata": {},
   "outputs": [],
   "source": [
    "rp.summary_cat(systolic.drug)"
   ]
  },
  {
   "cell_type": "code",
   "execution_count": null,
   "metadata": {},
   "outputs": [],
   "source": [
    "%%stata\n",
    "\n",
    "tab drug disease, chi V"
   ]
  },
  {
   "cell_type": "code",
   "execution_count": null,
   "metadata": {},
   "outputs": [],
   "source": [
    "tab, res = rp.crosstab(systolic.drug, systolic.disease, test = \"chi-square\")\n",
    "\n",
    "print(tab, res, sep = \"\\n\"*2)"
   ]
  },
  {
   "cell_type": "markdown",
   "metadata": {},
   "source": [
    "### Mean\n",
    "\n",
    "Stata considers each group a sub-population when using **-mean *varlist*, over(*var*)-**; in doinging so, a different formula is used."
   ]
  },
  {
   "cell_type": "code",
   "execution_count": null,
   "metadata": {},
   "outputs": [],
   "source": [
    "%%stata\n",
    "\n",
    "tab drug, summarize(systolic)\n",
    "\n",
    "mean systolic, over(drug)"
   ]
  },
  {
   "cell_type": "code",
   "execution_count": null,
   "metadata": {},
   "outputs": [],
   "source": [
    "rp.summarize(systolic.groupby(\"drug\")[\"systolic\"])"
   ]
  },
  {
   "cell_type": "markdown",
   "metadata": {},
   "source": [
    "## T-tests"
   ]
  },
  {
   "cell_type": "markdown",
   "metadata": {},
   "source": [
    "### Independent Sample's T-Test (equal variance)"
   ]
  },
  {
   "cell_type": "code",
   "execution_count": null,
   "metadata": {},
   "outputs": [],
   "source": [
    "%%stata\n",
    "\n",
    "ttest systolic if drug == 1 | drug == 2, by(drug)\n",
    "\n",
    "esize twosample systolic if drug == 1 | drug == 2, by(drug) all"
   ]
  },
  {
   "cell_type": "code",
   "execution_count": null,
   "metadata": {},
   "outputs": [],
   "source": [
    "des, res = rp.difference_test(\"systolic ~ C(drug)\", data = systolic.query(f\"drug in {[1, 2]}\")).conduct(effect_size = \"all\")\n",
    "\n",
    "print(des, res, sep = \"\\n\"*2)"
   ]
  },
  {
   "cell_type": "code",
   "execution_count": null,
   "metadata": {},
   "outputs": [],
   "source": [
    "des, res = rp.ttest(systolic.query(\"drug == 1\")[\"systolic\"], \n",
    "                    systolic.query(\"drug == 2\")[\"systolic\"],\n",
    "                    group1_name = \"1\", group2_name = \"2\")\n",
    "\n",
    "print(des, res, sep = \"\\n\"*2)"
   ]
  },
  {
   "cell_type": "markdown",
   "metadata": {},
   "source": [
    "### Independent Sample's T-Test (unequal variance)"
   ]
  },
  {
   "cell_type": "markdown",
   "metadata": {},
   "source": [
    "#### Satterthwaite Degrees of Freedom"
   ]
  },
  {
   "cell_type": "code",
   "execution_count": null,
   "metadata": {},
   "outputs": [],
   "source": [
    "%%stata\n",
    "\n",
    "ttest systolic if drug == 1 | drug == 2, by(drug) unequal\n",
    "\n",
    "esize twosample systolic if drug == 1 | drug == 2, by(drug) unequal all"
   ]
  },
  {
   "cell_type": "code",
   "execution_count": null,
   "metadata": {},
   "outputs": [],
   "source": [
    "des, res = rp.difference_test(\"systolic ~ C(drug)\", data = systolic.query(f\"drug in {[1, 2]}\"), equal_variances = False).conduct(effect_size = \"all\")\n",
    "\n",
    "print(des, res, sep = \"\\n\"*2)"
   ]
  },
  {
   "cell_type": "code",
   "execution_count": null,
   "metadata": {},
   "outputs": [],
   "source": [
    "des, res = rp.ttest(systolic.query(\"drug == 1\")[\"systolic\"], \n",
    "                    systolic.query(\"drug == 2\")[\"systolic\"],\n",
    "                    group1_name = \"1\", group2_name = \"2\",\n",
    "                    equal_variances = False)\n",
    "\n",
    "print(des, res, sep = \"\\n\"*2)"
   ]
  },
  {
   "cell_type": "markdown",
   "metadata": {},
   "source": [
    "#### Welch's Degrees of Freedom"
   ]
  },
  {
   "cell_type": "code",
   "execution_count": null,
   "metadata": {},
   "outputs": [],
   "source": [
    "%%stata\n",
    "\n",
    "ttest systolic if drug == 1 | drug == 2, by(drug) welch\n",
    "\n",
    "esize twosample systolic if drug == 1 | drug == 2, by(drug) welch all"
   ]
  },
  {
   "cell_type": "code",
   "execution_count": null,
   "metadata": {},
   "outputs": [],
   "source": [
    "des, res = rp.difference_test(\"systolic ~ C(drug)\", data = systolic.query(f\"drug in {[1, 2]}\"), equal_variances = False, welch_dof = \"welch\").conduct(effect_size = \"all\")\n",
    "\n",
    "print(des, res, sep = \"\\n\"*2)"
   ]
  },
  {
   "cell_type": "code",
   "execution_count": null,
   "metadata": {},
   "outputs": [],
   "source": [
    "des, res = rp.ttest(systolic.query(\"drug == 1\")[\"systolic\"], \n",
    "                    systolic.query(\"drug == 2\")[\"systolic\"],\n",
    "                    group1_name = \"1\", group2_name = \"2\",\n",
    "                    equal_variances = False,\n",
    "                    welch_dof = \"welch\")\n",
    "\n",
    "print(des, res, sep = \"\\n\"*2)"
   ]
  },
  {
   "cell_type": "markdown",
   "metadata": {},
   "source": [
    "## ANOVA"
   ]
  },
  {
   "cell_type": "markdown",
   "metadata": {},
   "source": [
    "###"
   ]
  },
  {
   "cell_type": "code",
   "execution_count": 7,
   "metadata": {},
   "outputs": [
    {
     "name": "stdout",
     "output_type": "stream",
     "text": [
      "\n",
      ". \n",
      ". anova systolic i.drug##i.disease\n",
      "\n",
      "                         Number of obs =         57    R-squared     =  0.4443\n",
      "                         Root MSE      =    10.4225    Adj R-squared =  0.3084\n",
      "\n",
      "                  Source | Partial SS         df         MS        F    Prob>F\n",
      "            -------------+----------------------------------------------------\n",
      "                   Model |  3907.9272         11   355.26611      3.27  0.0024\n",
      "                         |\n",
      "                    drug |  2813.6905          3   937.89683      8.63  0.0001\n",
      "                 disease |  349.82654          2   174.91327      1.61  0.2111\n",
      "            drug#disease |  706.68708          6   117.78118      1.08  0.3863\n",
      "                         |\n",
      "                Residual |  4888.2833         45   108.62852  \n",
      "            -------------+----------------------------------------------------\n",
      "                   Total |  8796.2105         56   157.07519  \n",
      "\n",
      ". \n",
      ". estat esize\n",
      "\n",
      "Effect sizes for linear models\n",
      "\n",
      "-----------------------------------------------------------------\n",
      "             Source | Eta-squared     df     [95% conf. interval]\n",
      "--------------------+--------------------------------------------\n",
      "              Model |   .4442739      11     .0822546    .5022281\n",
      "                    |\n",
      "               drug |   .3653207       3     .1172488    .5092474\n",
      "            disease |   .0667849       2            .    .2109926\n",
      "       drug#disease |   .1263076       6            .    .2144199\n",
      "-----------------------------------------------------------------\n",
      "Note: Eta-squared values for individual model terms are partial.\n",
      "\n",
      ". \n",
      ". estat esize, epsilon\n",
      "\n",
      "Effect sizes for linear models\n",
      "\n",
      "---------------------------------------------\n",
      "             Source | Epsilon-squared      df\n",
      "--------------------+------------------------\n",
      "              Model |     .3084298         11\n",
      "                    |\n",
      "               drug |     .3230087          3\n",
      "            disease |     .0253087          2\n",
      "       drug#disease |     .0098152          6\n",
      "---------------------------------------------\n",
      "Note: Epsilon-squared values for individual\n",
      "      model terms are partial.\n",
      "\n",
      ". \n",
      ". estat esize, omega\n",
      "\n",
      "Effect sizes for linear models\n",
      "\n",
      "-------------------------------------------\n",
      "             Source | Omega-squared      df\n",
      "--------------------+----------------------\n",
      "              Model |    .3046673        11\n",
      "                    |\n",
      "               drug |    .3185164         3\n",
      "            disease |    .0247945         2\n",
      "       drug#disease |    .0096283         6\n",
      "-------------------------------------------\n",
      "Note: Omega-squared values for individual\n",
      "      model terms are partial.\n",
      "\n",
      ". \n"
     ]
    }
   ],
   "source": [
    "%%stata\n",
    "\n",
    "anova systolic i.drug##i.disease\n",
    "\n",
    "estat esize\n",
    "\n",
    "estat esize, epsilon\n",
    "\n",
    "estat esize, omega"
   ]
  },
  {
   "cell_type": "code",
   "execution_count": 6,
   "metadata": {},
   "outputs": [
    {
     "name": "stdout",
     "output_type": "stream",
     "text": [
      "\n",
      "\n",
      " Note: Effect size values for factors are partial. \n",
      "\n",
      "\n"
     ]
    },
    {
     "data": {
      "text/plain": [
       "(                        0\n",
       " Number of obs =   57.0000\n",
       " Root MSE =        10.4225\n",
       " R-squared =        0.4443\n",
       " Adj R-squared =    0.3084,\n",
       "          Source Sum of Squares Degrees of Freedom Mean Squares  F value p-value Eta squared Epsilon squared Omega squared\n",
       " 0         Model      3907.9272                 11     355.2661   3.2705  0.0024      0.4443          0.3084        0.3047\n",
       " 1                                                                                                                        \n",
       " 2          drug      1046.6286                3.0     348.8762   3.2116  0.0317      0.1764          0.0732        0.1043\n",
       " 3       disease      3573.6857                2.0    1786.8428  16.4491     0.0      0.4223          0.2713        0.3515\n",
       " 4  drug:disease       3179.816                6.0     529.9693   4.8787  0.0006      0.3941          0.2111        0.2899\n",
       " 5                                                                                                                        \n",
       " 6      Residual      4888.2833                 45     108.6285                                                           \n",
       " 7         Total      8796.2105                 56     157.0752                                                           )"
      ]
     },
     "execution_count": 6,
     "metadata": {},
     "output_type": "execute_result"
    }
   ],
   "source": [
    "## Epsilon and Omega partials doesn't match up with Stata\n",
    "rp.anova(\"systolic ~ C(drug)*C(disease)\", data = systolic, sum_of_squares = 3).results()"
   ]
  },
  {
   "cell_type": "code",
   "execution_count": null,
   "metadata": {},
   "outputs": [],
   "source": [
    "# Stata 17 calculates Omega2 based on the F value\n",
    "\n",
    "(9.046 - 1) / (9.046 + (46 + 1) / 3)"
   ]
  },
  {
   "cell_type": "code",
   "execution_count": null,
   "metadata": {},
   "outputs": [],
   "source": [
    "# Stata 13 calculates Omega2 based on the replationship to Eta2\n",
    "\n",
    "0.3711 - (3/46) * (1 - 0.3711)"
   ]
  },
  {
   "cell_type": "code",
   "execution_count": null,
   "metadata": {},
   "outputs": [],
   "source": []
  },
  {
   "cell_type": "code",
   "execution_count": null,
   "metadata": {},
   "outputs": [],
   "source": [
    "(11 * (387.2126 - 110.4525)) / (9340.1552 + 110.4525)"
   ]
  },
  {
   "cell_type": "code",
   "execution_count": null,
   "metadata": {},
   "outputs": [],
   "source": [
    "(3 * (999.1573 - 110.4525)) / (3 * 999.1573 + ((58 - 3) * 110.4525))"
   ]
  },
  {
   "cell_type": "code",
   "execution_count": null,
   "metadata": {},
   "outputs": [],
   "source": [
    "%%stata\n",
    "\n",
    "anova systolic i.drug i.disease\n",
    "\n",
    "estat esize\n",
    "\n",
    "estat esize, epsilon\n",
    "\n",
    "estat esize, omega"
   ]
  },
  {
   "cell_type": "code",
   "execution_count": null,
   "metadata": {},
   "outputs": [],
   "source": [
    "rp.anova(\"systolic ~ C(drug) + C(disease)\", data = systolic, sum_of_squares = 3).results()"
   ]
  },
  {
   "cell_type": "code",
   "execution_count": null,
   "metadata": {},
   "outputs": [],
   "source": [
    "systolic.to_clipboard()"
   ]
  },
  {
   "cell_type": "code",
   "execution_count": null,
   "metadata": {},
   "outputs": [],
   "source": [
    "import patsy"
   ]
  },
  {
   "cell_type": "code",
   "execution_count": null,
   "metadata": {},
   "outputs": [],
   "source": [
    "dv, iv = patsy.dmatrices(f\"systolic ~ C(drug) + C(disease)\", systolic, 1)"
   ]
  },
  {
   "cell_type": "code",
   "execution_count": null,
   "metadata": {},
   "outputs": [],
   "source": [
    "iv"
   ]
  },
  {
   "cell_type": "code",
   "execution_count": null,
   "metadata": {},
   "outputs": [],
   "source": [
    "np.asarray(iv)[:10, :]"
   ]
  },
  {
   "cell_type": "code",
   "execution_count": null,
   "metadata": {},
   "outputs": [],
   "source": [
    "systolic.disease.unique()"
   ]
  },
  {
   "cell_type": "code",
   "execution_count": null,
   "metadata": {},
   "outputs": [],
   "source": [
    "design_info2 = iv.design_info.subset('C(disease)')\n",
    "\n",
    "design_info2"
   ]
  },
  {
   "cell_type": "code",
   "execution_count": null,
   "metadata": {},
   "outputs": [],
   "source": [
    "design_info2.slice('C(disease)')"
   ]
  },
  {
   "cell_type": "code",
   "execution_count": null,
   "metadata": {},
   "outputs": [],
   "source": [
    "iv.design_info.term_slices"
   ]
  },
  {
   "cell_type": "code",
   "execution_count": null,
   "metadata": {},
   "outputs": [],
   "source": [
    "# patsy.build_design_matrices([design_info2], iv)[0]"
   ]
  },
  {
   "cell_type": "code",
   "execution_count": null,
   "metadata": {},
   "outputs": [],
   "source": [
    "iv.design_info.term_name_slices.items()"
   ]
  },
  {
   "cell_type": "code",
   "execution_count": null,
   "metadata": {},
   "outputs": [],
   "source": [
    "for key, val in iv.design_info.term_name_slices.items():\n",
    "    print(key, val)\n",
    "    print(iv.design_info.slice(val))\n",
    "    \n",
    "    print(iv[iv.design_info.slice(val)])\n",
    "    \n",
    "    print(\"\\n\"*3)\n",
    "    "
   ]
  },
  {
   "cell_type": "code",
   "execution_count": null,
   "metadata": {},
   "outputs": [],
   "source": [
    "dis = iv[iv.design_info.slice('C(disease)')]\n",
    "dis"
   ]
  },
  {
   "cell_type": "code",
   "execution_count": null,
   "metadata": {},
   "outputs": [],
   "source": [
    "dis @ iv.T"
   ]
  },
  {
   "cell_type": "code",
   "execution_count": null,
   "metadata": {},
   "outputs": [],
   "source": [
    "iv.design_info.column_name_indexes['C(disease)']"
   ]
  },
  {
   "cell_type": "code",
   "execution_count": null,
   "metadata": {},
   "outputs": [],
   "source": [
    "iv[iv.design_info.slice('C(disease)')]"
   ]
  },
  {
   "cell_type": "markdown",
   "metadata": {},
   "source": [
    "Trying based on subset"
   ]
  },
  {
   "cell_type": "code",
   "execution_count": null,
   "metadata": {},
   "outputs": [],
   "source": [
    "import patsy\n",
    "dv, iv = patsy.dmatrices(f\"systolic ~ C(drug)*C(disease)\", systolic, 1)\n",
    "\n",
    "iv.design_info"
   ]
  },
  {
   "cell_type": "code",
   "execution_count": null,
   "metadata": {},
   "outputs": [],
   "source": [
    "disease_info = iv.design_info.subset('C(disease)')\n",
    "disease_info"
   ]
  },
  {
   "cell_type": "code",
   "execution_count": null,
   "metadata": {},
   "outputs": [],
   "source": [
    "drug_info = iv.design_info.subset('C(drug)')\n",
    "drug_info"
   ]
  },
  {
   "cell_type": "code",
   "execution_count": null,
   "metadata": {},
   "outputs": [],
   "source": [
    "diseasedrug_info = iv.design_info.subset('C(drug):C(disease)')\n",
    "diseasedrug_info"
   ]
  },
  {
   "cell_type": "code",
   "execution_count": null,
   "metadata": {},
   "outputs": [],
   "source": [
    "iv.design_info.term_names[1:]"
   ]
  },
  {
   "cell_type": "code",
   "execution_count": null,
   "metadata": {},
   "outputs": [],
   "source": [
    "#patsy.design_matrix_builders(iv.design_info.term_names[1:], next(iter(iv.design_info.term_names[1:])), eval_env = 1)\n",
    "\n",
    "#terms_design_info = {}\n",
    "#for term in iv.design_info.term_names[1:]:\n",
    "    #terms_design_info[term] =  iv.design_info.subset(term)\n",
    "\n",
    "terms_design_info = []\n",
    "for term in iv.design_info.term_names[1:]:\n",
    "    terms_design_info.append(iv.design_info.subset(term))\n",
    "    \n",
    "terms_design_info\n"
   ]
  },
  {
   "cell_type": "code",
   "execution_count": null,
   "metadata": {},
   "outputs": [],
   "source": [
    "iv.design_info.term_names"
   ]
  },
  {
   "cell_type": "code",
   "execution_count": null,
   "metadata": {},
   "outputs": [],
   "source": [
    "np.linalg.matrix_rank(factor_matrices['C(drug)'] - 1)"
   ]
  },
  {
   "cell_type": "code",
   "execution_count": null,
   "metadata": {},
   "outputs": [],
   "source": [
    "factor_matrices = {}\n",
    "for factor in patsy.build_design_matrices(terms_design_info, systolic):\n",
    "    factor_matrices[factor.design_info.term_names[1]] = np.asarray(factor)\n",
    "    \n",
    "factor_matrices\n",
    "    "
   ]
  },
  {
   "cell_type": "code",
   "execution_count": null,
   "metadata": {},
   "outputs": [],
   "source": []
  },
  {
   "cell_type": "code",
   "execution_count": null,
   "metadata": {},
   "outputs": [],
   "source": []
  },
  {
   "cell_type": "code",
   "execution_count": null,
   "metadata": {},
   "outputs": [],
   "source": [
    "patsy.build_design_matrices([disease_info, drug_info], systolic)[1]"
   ]
  },
  {
   "cell_type": "code",
   "execution_count": null,
   "metadata": {},
   "outputs": [],
   "source": []
  },
  {
   "cell_type": "code",
   "execution_count": null,
   "metadata": {},
   "outputs": [],
   "source": [
    "#np.asarray(patsy.build_design_matrices([disease_info, iv.design_info.subset('C(disease)')], np.asarray(iv)))[0]"
   ]
  }
 ],
 "metadata": {
  "kernelspec": {
   "display_name": "Python 3.9.5 64-bit",
   "language": "python",
   "name": "python3"
  },
  "language_info": {
   "codemirror_mode": {
    "name": "ipython",
    "version": 3
   },
   "file_extension": ".py",
   "mimetype": "text/x-python",
   "name": "python",
   "nbconvert_exporter": "python",
   "pygments_lexer": "ipython3",
   "version": "3.9.5"
  },
  "orig_nbformat": 4,
  "vscode": {
   "interpreter": {
    "hash": "0f3d5cb2ba271fe9262f092b1f3af8b74ff46ac59cca8b4a52c4adce5f7cfbb6"
   }
  }
 },
 "nbformat": 4,
 "nbformat_minor": 2
}
